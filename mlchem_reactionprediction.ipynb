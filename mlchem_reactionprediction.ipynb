{
 "cells": [
  {
   "cell_type": "code",
   "execution_count": 2,
   "metadata": {},
   "outputs": [],
   "source": [
    "import os\n",
    "import pickle\n",
    "import urllib.request\n",
    "from tqdm import tqdm\n",
    "import matplotlib.pyplot as plt\n",
    "import pandas as pd\n",
    "import torch\n",
    "from torch import nn\n",
    "from torch.utils.data import Dataset, TensorDataset"
   ]
  },
  {
   "cell_type": "code",
   "execution_count": 4,
   "metadata": {},
   "outputs": [],
   "source": [
    "from rdkit import Chem\n",
    "from rdkit.Chem.Draw import IPythonConsole\n",
    "from rdkit.Chem import AllChem, PandasTools\n"
   ]
  },
  {
   "cell_type": "code",
   "execution_count": 6,
   "metadata": {},
   "outputs": [
    {
     "name": "stdout",
     "output_type": "stream",
     "text": [
      "['vocab', 'train_sources', 'train_targets', 'test_sources', 'test_targets', 'valid_sources', 'valid_targets']\n"
     ]
    }
   ],
   "source": [
    "base_url = \"https://raw.githubusercontent.com/pandegroup/reaction_prediction_seq2seq/master/processed_data/\"\n",
    "sets = [\"train\", \"test\", \"valid\"]\n",
    "types = [\"sources\", \"targets\"]\n",
    "files = [\"vocab\"]\n",
    "for s in sets:\n",
    "    for t in types:\n",
    "        files.append(\"%s_%s\"%(s, t))\n",
    "print(files)"
   ]
  },
  {
   "cell_type": "code",
   "execution_count": 7,
   "metadata": {},
   "outputs": [],
   "source": [
    "target_dir = \"./pande_data\"\n",
    "if not os.path.exists(target_dir):\n",
    "    os.mkdir(target_dir)\n",
    "for filename in files:\n",
    "    target_file = '%s/%s'%(target_dir, filename)\n",
    "    if not os.path.exists(target_file):\n",
    "        urllib.request.urlretrieve(base_url + filename, target_file)"
   ]
  },
  {
   "cell_type": "code",
   "execution_count": 8,
   "metadata": {},
   "outputs": [],
   "source": [
    "def parse_line_source(line):\n",
    "    tokens = line.split(\" \")\n",
    "    klass = tokens[0]\n",
    "    smiles = \"\".join(tokens[1:])\n",
    "    return klass, smiles\n",
    "def parse_line_target(line):\n",
    "    tokens = line.split(\" \")\n",
    "    smiles = \"\".join(tokens)\n",
    "    return smiles"
   ]
  },
  {
   "cell_type": "code",
   "execution_count": 9,
   "metadata": {},
   "outputs": [],
   "source": [
    "dataframes = []\n",
    "for s in sets:\n",
    "    target_file = f\"{target_dir}/{s}_targets\"\n",
    "    source_file = f\"{target_dir}/{s}_sources\"   \n",
    "    with open(target_file, \"r\") as f:\n",
    "        target_lines = f.readlines()\n",
    "    with open(source_file, \"r\") as f:\n",
    "        source_lines = f.readlines()\n",
    "    parsed_sources = [parse_line_source(line.strip()) for line in source_lines]\n",
    "    parsed_targets = [parse_line_target(line.strip()) for line in target_lines]\n",
    "    data_dict = {\"reactants\":parsed_targets,\n",
    "                \"reaction_class\": [t[0] for t in parsed_sources],\n",
    "                \"products\": [t[1] for t in parsed_sources],\n",
    "                \"set\": [s]*len(parsed_sources)}\n",
    "    dataframe = pd.DataFrame(data_dict)\n",
    "    dataframes.append(dataframe)\n",
    "                 \n",
    "data = pd.concat(dataframes, ignore_index=True)"
   ]
  },
  {
   "cell_type": "code",
   "execution_count": 10,
   "metadata": {},
   "outputs": [
    {
     "data": {
      "text/html": [
       "<div>\n",
       "<style scoped>\n",
       "    .dataframe tbody tr th:only-of-type {\n",
       "        vertical-align: middle;\n",
       "    }\n",
       "\n",
       "    .dataframe tbody tr th {\n",
       "        vertical-align: top;\n",
       "    }\n",
       "\n",
       "    .dataframe thead th {\n",
       "        text-align: right;\n",
       "    }\n",
       "</style>\n",
       "<table border=\"1\" class=\"dataframe\">\n",
       "  <thead>\n",
       "    <tr style=\"text-align: right;\">\n",
       "      <th></th>\n",
       "      <th>reactants</th>\n",
       "      <th>reaction_class</th>\n",
       "      <th>products</th>\n",
       "      <th>set</th>\n",
       "    </tr>\n",
       "  </thead>\n",
       "  <tbody>\n",
       "    <tr>\n",
       "      <th>0</th>\n",
       "      <td>CS(=O)(=O)OC[C@H]1CCC(=O)O1.Fc1ccc(Nc2ncnc3cc(...</td>\n",
       "      <td>&lt;RX_1&gt;</td>\n",
       "      <td>O=C1CC[C@H](CN2CCN(CCOc3cc4ncnc(Nc5ccc(F)c(Cl)...</td>\n",
       "      <td>train</td>\n",
       "    </tr>\n",
       "    <tr>\n",
       "      <th>1</th>\n",
       "      <td>COC(=O)c1cc(CCCc2cc3c(=O)[nH]c(N)nc3[nH]2)cs1</td>\n",
       "      <td>&lt;RX_6&gt;</td>\n",
       "      <td>Nc1nc2[nH]c(CCCc3csc(C(=O)O)c3)cc2c(=O)[nH]1</td>\n",
       "      <td>train</td>\n",
       "    </tr>\n",
       "    <tr>\n",
       "      <th>2</th>\n",
       "      <td>CC1(C)OB(B2OC(C)(C)C(C)(C)O2)OC1(C)C.FC(F)(F)c...</td>\n",
       "      <td>&lt;RX_9&gt;</td>\n",
       "      <td>CC1(C)OB(c2cccc(Nc3nccc(C(F)(F)F)n3)c2)OC1(C)C</td>\n",
       "      <td>train</td>\n",
       "    </tr>\n",
       "    <tr>\n",
       "      <th>3</th>\n",
       "      <td>CC(C)(C)OC(=O)NCC(=O)CCC(=O)OCCCC(=O)OCc1ccccc1</td>\n",
       "      <td>&lt;RX_6&gt;</td>\n",
       "      <td>CC(C)(C)OC(=O)NCC(=O)CCC(=O)OCCCC(=O)O</td>\n",
       "      <td>train</td>\n",
       "    </tr>\n",
       "    <tr>\n",
       "      <th>4</th>\n",
       "      <td>Fc1cc2c(Cl)ncnc2cn1.NC1CCCCCC1</td>\n",
       "      <td>&lt;RX_1&gt;</td>\n",
       "      <td>Fc1cc2c(NC3CCCCCC3)ncnc2cn1</td>\n",
       "      <td>train</td>\n",
       "    </tr>\n",
       "  </tbody>\n",
       "</table>\n",
       "</div>"
      ],
      "text/plain": [
       "                                           reactants reaction_class  \\\n",
       "0  CS(=O)(=O)OC[C@H]1CCC(=O)O1.Fc1ccc(Nc2ncnc3cc(...         <RX_1>   \n",
       "1      COC(=O)c1cc(CCCc2cc3c(=O)[nH]c(N)nc3[nH]2)cs1         <RX_6>   \n",
       "2  CC1(C)OB(B2OC(C)(C)C(C)(C)O2)OC1(C)C.FC(F)(F)c...         <RX_9>   \n",
       "3    CC(C)(C)OC(=O)NCC(=O)CCC(=O)OCCCC(=O)OCc1ccccc1         <RX_6>   \n",
       "4                     Fc1cc2c(Cl)ncnc2cn1.NC1CCCCCC1         <RX_1>   \n",
       "\n",
       "                                            products    set  \n",
       "0  O=C1CC[C@H](CN2CCN(CCOc3cc4ncnc(Nc5ccc(F)c(Cl)...  train  \n",
       "1       Nc1nc2[nH]c(CCCc3csc(C(=O)O)c3)cc2c(=O)[nH]1  train  \n",
       "2     CC1(C)OB(c2cccc(Nc3nccc(C(F)(F)F)n3)c2)OC1(C)C  train  \n",
       "3             CC(C)(C)OC(=O)NCC(=O)CCC(=O)OCCCC(=O)O  train  \n",
       "4                        Fc1cc2c(NC3CCCCCC3)ncnc2cn1  train  "
      ]
     },
     "execution_count": 10,
     "metadata": {},
     "output_type": "execute_result"
    }
   ],
   "source": [
    "data.head()"
   ]
  },
  {
   "cell_type": "code",
   "execution_count": 11,
   "metadata": {},
   "outputs": [
    {
     "data": {
      "text/plain": [
       "train    40029\n",
       "test      5004\n",
       "valid     5004\n",
       "Name: set, dtype: int64"
      ]
     },
     "execution_count": 11,
     "metadata": {},
     "output_type": "execute_result"
    }
   ],
   "source": [
    "data.set.value_counts()"
   ]
  },
  {
   "cell_type": "code",
   "execution_count": 12,
   "metadata": {},
   "outputs": [
    {
     "data": {
      "text/plain": [
       "<RX_1>     15122\n",
       "<RX_2>     11913\n",
       "<RX_6>      8353\n",
       "<RX_3>      5639\n",
       "<RX_7>      4585\n",
       "<RX_9>      1834\n",
       "<RX_4>       900\n",
       "<RX_8>       814\n",
       "<RX_5>       650\n",
       "<RX_10>      227\n",
       "Name: reaction_class, dtype: int64"
      ]
     },
     "execution_count": 12,
     "metadata": {},
     "output_type": "execute_result"
    }
   ],
   "source": [
    "\t\n",
    "data.reaction_class.value_counts()"
   ]
  },
  {
   "cell_type": "code",
   "execution_count": 13,
   "metadata": {},
   "outputs": [
    {
     "data": {
      "image/png": "[encoded data removed]",
      "text/plain": [
       "<rdkit.Chem.rdchem.Mol at 0x1cf1ffc94a0>"
      ]
     },
     "metadata": {},
     "output_type": "display_data"
    },
    {
     "data": {
      "image/png": "[encoded data removed]",
      "text/plain": [
       "<rdkit.Chem.rdchem.Mol at 0x1cf1ffc94a0>"
      ]
     },
     "metadata": {},
     "output_type": "display_data"
    }
   ],
   "source": [
    "display(Chem.MolFromSmiles(data.reactants[0]))\n",
    "display(Chem.MolFromSmiles(data.products[0]))"
   ]
  },
  {
   "cell_type": "code",
   "execution_count": 14,
   "metadata": {},
   "outputs": [
    {
     "data": {
      "text/plain": [
       "0"
      ]
     },
     "execution_count": 14,
     "metadata": {},
     "output_type": "execute_result"
    }
   ],
   "source": [
    "data[\"reactant_ROMol\"] = data.reactants.apply(Chem.MolFromSmiles)\n",
    "sum(data.reactant_ROMol.isna())"
   ]
  },
  {
   "cell_type": "code",
   "execution_count": 15,
   "metadata": {},
   "outputs": [
    {
     "data": {
      "text/plain": [
       "0"
      ]
     },
     "execution_count": 15,
     "metadata": {},
     "output_type": "execute_result"
    }
   ],
   "source": [
    "data[\"products_ROMol\"] = data.products.apply(Chem.MolFromSmiles)\n",
    "sum(data.products_ROMol.isna())"
   ]
  },
  {
   "cell_type": "code",
   "execution_count": 16,
   "metadata": {},
   "outputs": [],
   "source": [
    "from molvecgen.vectorizers import SmilesVectorizer"
   ]
  },
  {
   "cell_type": "code",
   "execution_count": 17,
   "metadata": {},
   "outputs": [],
   "source": [
    "import numpy as np\n",
    "class SmilesIndexer(SmilesVectorizer):\n",
    "     \n",
    "    def tokenize(self, mols, augment=None, canonical=None):\n",
    "        tokenized = []\n",
    "         \n",
    "        #Possible override object settings\n",
    "        if augment is None:\n",
    "            augment = self.augment\n",
    "        if canonical is None:    \n",
    "            canonical = self.canonical\n",
    "        for i,mol in enumerate(mols):\n",
    "             \n",
    "            #Fast convert from RDKit binary\n",
    "            if self.binary: mol = Chem.Mol(mol)\n",
    "             \n",
    "            if augment:\n",
    "                mol = self.randomize_mol(mol)\n",
    "            smiles = Chem.MolToSmiles(mol, canonical=canonical, isomericSmiles=self.isomericSmiles)\n",
    "             \n",
    "            smiles = \"%s%s%s\"%(self.startchar, smiles, self.endchar)\n",
    "             \n",
    "            tokens = torch.tensor([self._char_to_int[char] for char in smiles], dtype=torch.long)\n",
    "             \n",
    "            tokenized.append(tokens)\n",
    "                 \n",
    "        return tokenized\n",
    "       \n",
    "    def reverse_tokenize(self, vect, strip=True):\n",
    "        smiles = []\n",
    "        for v in vect:\n",
    "            smile = \"\".join(self._int_to_char[i.item()] for i in v)\n",
    "            if strip:\n",
    "                smile = smile.strip(self.startchar + self.endchar)\n",
    "            smiles.append(smile)\n",
    "        return np.array(smiles)"
   ]
  },
  {
   "cell_type": "code",
   "execution_count": 18,
   "metadata": {},
   "outputs": [],
   "source": [
    "tokenizer = SmilesIndexer()\n",
    "tokenizer.fit(np.concatenate([data.reactant_ROMol.values, data.products_ROMol.values]))\n",
    "tokenizer.charset = \" %0\" + tokenizer.charset"
   ]
  },
  {
   "cell_type": "code",
   "execution_count": 19,
   "metadata": {},
   "outputs": [
    {
     "name": "stdout",
     "output_type": "stream",
     "text": [
      "Dimensions:\t(207, 54)\n",
      "Charset:\t %0nH.O2e(b+PF4Zp=u/-C7t98Ss#]5IBN[o1\\@L3)MigrcKd6l^$?\n"
     ]
    }
   ],
   "source": [
    "print(\"Dimensions:\\t%s\"%(str(tokenizer.dims)))\n",
    "print(\"Charset:\\t%s\"%tokenizer.charset)"
   ]
  },
  {
   "cell_type": "code",
   "execution_count": 20,
   "metadata": {},
   "outputs": [
    {
     "name": "stdout",
     "output_type": "stream",
     "text": [
      "[76, 48, 48, 42, 31, 54, 80, 68, 26, 81, 36, 73, 95, 69, 46, 45, 69, 34, 50, 43]\n"
     ]
    }
   ],
   "source": [
    "product_tokens = tokenizer.tokenize(data.products_ROMol[0:20])\n",
    "print([len(v) for v in product_tokens])"
   ]
  },
  {
   "cell_type": "code",
   "execution_count": 21,
   "metadata": {},
   "outputs": [],
   "source": [
    "from torch.nn.utils.rnn import pad_sequence"
   ]
  },
  {
   "cell_type": "code",
   "execution_count": 22,
   "metadata": {},
   "outputs": [
    {
     "data": {
      "text/plain": [
       "<matplotlib.image.AxesImage at 0x1cfa5996790>"
      ]
     },
     "execution_count": 22,
     "metadata": {},
     "output_type": "execute_result"
    },
    {
     "data": {
      "image/png": "[encoded data removed]",
      "text/plain": [
       "<Figure size 1600x336.842 with 1 Axes>"
      ]
     },
     "metadata": {},
     "output_type": "display_data"
    }
   ],
   "source": [
    "product_padded = pad_sequence(product_tokens)\n",
    "plt.matshow(product_padded.numpy().T)"
   ]
  },
  {
   "cell_type": "code",
   "execution_count": 23,
   "metadata": {},
   "outputs": [],
   "source": [
    "X_train = data.reactant_ROMol[data.set == \"train\"]\n",
    "y_train = data.products_ROMol[data.set == \"train\"]\n",
    "X_val = data.reactant_ROMol[data.set == \"valid\"]\n",
    "y_val = data.products_ROMol[data.set == \"valid\"]"
   ]
  },
  {
   "cell_type": "code",
   "execution_count": 24,
   "metadata": {},
   "outputs": [
    {
     "name": "stdout",
     "output_type": "stream",
     "text": [
      "cpu\n"
     ]
    }
   ],
   "source": [
    "device = torch.device(\"cuda:0\" if torch.cuda.is_available() else \"cpu\")\n",
    "print(device)"
   ]
  },
  {
   "cell_type": "code",
   "execution_count": 25,
   "metadata": {},
   "outputs": [],
   "source": [
    "class MolDataset(Dataset):\n",
    "    def __init__(self, reactants, products, tokenizer, augment):\n",
    "        self.reactants = reactants\n",
    "        self.products = products\n",
    "        self.tokenizer = tokenizer\n",
    "        self.augment = augment\n",
    "    def __len__(self):\n",
    "        return len(self.reactants)\n",
    "    def __getitem__(self, idx):\n",
    "        if torch.is_tensor(idx):\n",
    "            idx = idx.tolist()\n",
    "        reactants = self.reactants.iloc[idx]\n",
    "        products = self.products.iloc[idx]\n",
    "        reactants_tokens = self.tokenizer.tokenize([reactants], augment=self.augment)[0]\n",
    "        products_tokens = self.tokenizer.tokenize([products], augment=self.augment)[0]\n",
    "         \n",
    "        return reactants_tokens, products_tokens"
   ]
  },
  {
   "cell_type": "code",
   "execution_count": 26,
   "metadata": {},
   "outputs": [],
   "source": [
    "train_dataset = MolDataset(X_train, y_train, tokenizer, augment=False)\n",
    "val_dataset = MolDataset(X_val, y_val, tokenizer, augment=False)"
   ]
  },
  {
   "cell_type": "code",
   "execution_count": 27,
   "metadata": {},
   "outputs": [
    {
     "data": {
      "text/plain": [
       "tensor([51, 21, 21, 21, 21, 21, 21, 21, 33, 21,  9, 17,  6, 41, 33,  9, 21, 41,\n",
       "        46, 36, 46, 46, 46, 46,  9, 20, 46,  7, 46, 46, 46,  9, 21, 21, 21,  9,\n",
       "        17,  6, 41,  6, 21, 41, 46, 46,  7,  6, 41, 46, 36,  5, 21, 50, 21, 21,\n",
       "        21, 31, 52])"
      ]
     },
     "execution_count": 27,
     "metadata": {},
     "output_type": "execute_result"
    }
   ],
   "source": [
    "reactant_tokens, product_tokens = val_dataset[0]\n",
    "reactant_tokens"
   ]
  },
  {
   "cell_type": "code",
   "execution_count": 28,
   "metadata": {},
   "outputs": [],
   "source": [
    "batch_size=120\n",
    "def collate_fn(r_and_p_list):\n",
    "    r, p = zip(*r_and_p_list)\n",
    "    return pad_sequence(r), pad_sequence(p)\n",
    "train_loader = torch.utils.data.DataLoader(dataset=train_dataset,\n",
    "                                          batch_size=batch_size,\n",
    "                                          shuffle=True,\n",
    "                                          collate_fn=collate_fn,\n",
    "                                          num_workers=2,\n",
    "                                          drop_last=True)\n",
    "val_loader = torch.utils.data.DataLoader(dataset=val_dataset,\n",
    "                                          batch_size=500,\n",
    "                                          shuffle=False,\n",
    "                                          collate_fn=collate_fn,\n",
    "                                          num_workers=2,\n",
    "                                          drop_last=True)"
   ]
  },
  {
   "cell_type": "code",
   "execution_count": 29,
   "metadata": {},
   "outputs": [],
   "source": [
    "for reactants, products in train_loader:\n",
    "    break\n",
    "reactants.shape"
   ]
  },
  {
   "cell_type": "code",
   "execution_count": null,
   "metadata": {},
   "outputs": [],
   "source": []
  }
 ],
 "metadata": {
  "kernelspec": {
   "display_name": "mlchem2",
   "language": "python",
   "name": "python3"
  },
  "language_info": {
   "codemirror_mode": {
    "name": "ipython",
    "version": 3
   },
   "file_extension": ".py",
   "mimetype": "text/x-python",
   "name": "python",
   "nbconvert_exporter": "python",
   "pygments_lexer": "ipython3",
   "version": "3.8.17"
  },
  "orig_nbformat": 4
 },
 "nbformat": 4,
 "nbformat_minor": 2
}
