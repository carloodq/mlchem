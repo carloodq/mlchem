{
 "cells": [
  {
   "cell_type": "code",
   "execution_count": 1,
   "metadata": {},
   "outputs": [],
   "source": [
    "# input -- dataset with material properties\n",
    "# outputs -- prediction of the property measure\n",
    "# method:  ml/dl\n",
    "# performance assessment"
   ]
  },
  {
   "cell_type": "markdown",
   "metadata": {},
   "source": [
    "MOFs with small pore sizes (3.30–5.00 Å) and low porosities (0.30–0.60) are the best adsorbent candidates for CO2/H2 separation, whereas MOFs having high porosities (0.60–1.0) and large LCD (>15 Å) have high performance as membranes for H2/CO2 separation"
   ]
  },
  {
   "cell_type": "code",
   "execution_count": null,
   "metadata": {},
   "outputs": [],
   "source": []
  }
 ],
 "metadata": {
  "kernelspec": {
   "display_name": "mlchem2",
   "language": "python",
   "name": "python3"
  },
  "language_info": {
   "codemirror_mode": {
    "name": "ipython",
    "version": 3
   },
   "file_extension": ".py",
   "mimetype": "text/x-python",
   "name": "python",
   "nbconvert_exporter": "python",
   "pygments_lexer": "ipython3",
   "version": "3.8.17"
  },
  "orig_nbformat": 4
 },
 "nbformat": 4,
 "nbformat_minor": 2
}
